{
 "cells": [
  {
   "cell_type": "code",
   "execution_count": null,
   "id": "90aa8e82",
   "metadata": {},
   "outputs": [],
   "source": [
    "Code Reusability "
   ]
  },
  {
   "cell_type": "code",
   "execution_count": 12,
   "id": "de6f5538",
   "metadata": {},
   "outputs": [],
   "source": [
    "def greet():\n",
    "    \"\"\"creating a greet function\"\"\"\n",
    "    print(\"Hello Ibrahim\")"
   ]
  },
  {
   "cell_type": "code",
   "execution_count": 13,
   "id": "1335135c",
   "metadata": {},
   "outputs": [
    {
     "name": "stdout",
     "output_type": "stream",
     "text": [
      "Hello Ibrahim\n"
     ]
    }
   ],
   "source": [
    "greet()"
   ]
  },
  {
   "cell_type": "code",
   "execution_count": 14,
   "id": "2faec9a8",
   "metadata": {},
   "outputs": [
    {
     "name": "stdout",
     "output_type": "stream",
     "text": [
      "Hello Ibrahim\n"
     ]
    }
   ],
   "source": [
    "greet()"
   ]
  },
  {
   "cell_type": "code",
   "execution_count": null,
   "id": "fed648c7",
   "metadata": {},
   "outputs": [],
   "source": []
  },
  {
   "cell_type": "code",
   "execution_count": 15,
   "id": "babfba1e",
   "metadata": {},
   "outputs": [],
   "source": [
    "def greetuser(username):\n",
    "    \"\"\"Creating a greet user function\"\"\"\n",
    "    print(f\"Hello,{username.title()}\")"
   ]
  },
  {
   "cell_type": "code",
   "execution_count": 16,
   "id": "8b5536b2",
   "metadata": {},
   "outputs": [
    {
     "name": "stdout",
     "output_type": "stream",
     "text": [
      "Hello,Sirisha\n"
     ]
    }
   ],
   "source": [
    "greetuser('sirisha')"
   ]
  },
  {
   "cell_type": "code",
   "execution_count": 17,
   "id": "2d02761e",
   "metadata": {},
   "outputs": [
    {
     "name": "stdout",
     "output_type": "stream",
     "text": [
      "Hello,Venkatesh\n"
     ]
    }
   ],
   "source": [
    "greetuser('venkatesh')"
   ]
  },
  {
   "cell_type": "code",
   "execution_count": 18,
   "id": "9b34a5a6",
   "metadata": {},
   "outputs": [],
   "source": [
    "def greetuser(username):\n",
    "    \"\"\"Creating a greet user function\"\"\"\n",
    "    print(f\"Hello, {username}\")"
   ]
  },
  {
   "cell_type": "code",
   "execution_count": 21,
   "id": "e35237f1",
   "metadata": {},
   "outputs": [
    {
     "name": "stdout",
     "output_type": "stream",
     "text": [
      "Hello, ibrahim\n"
     ]
    }
   ],
   "source": [
    "greetuser('ibrahim')"
   ]
  },
  {
   "cell_type": "code",
   "execution_count": 22,
   "id": "f8c6f78f",
   "metadata": {},
   "outputs": [
    {
     "name": "stdout",
     "output_type": "stream",
     "text": [
      "Hello, naser\n"
     ]
    }
   ],
   "source": [
    "greetuser(\"naser\")"
   ]
  },
  {
   "cell_type": "code",
   "execution_count": null,
   "id": "5043626a",
   "metadata": {},
   "outputs": [],
   "source": [
    "Positional Args"
   ]
  },
  {
   "cell_type": "code",
   "execution_count": 26,
   "id": "5e6be708",
   "metadata": {},
   "outputs": [],
   "source": [
    "def describe_pet(animal_type,pet_name):\n",
    "    \"\"\"Creating the pet details function\"\"\"\n",
    "    print(f\"I have a {animal_type}\")\n",
    "    print(f\"My {animal_type} name is {pet_name}\")"
   ]
  },
  {
   "cell_type": "code",
   "execution_count": 27,
   "id": "92b95ec5",
   "metadata": {},
   "outputs": [
    {
     "name": "stdout",
     "output_type": "stream",
     "text": [
      "I have a dog\n",
      "My dog name is pluto\n"
     ]
    }
   ],
   "source": [
    "describe_pet('dog','pluto')"
   ]
  },
  {
   "cell_type": "code",
   "execution_count": 28,
   "id": "2cae6eaa",
   "metadata": {},
   "outputs": [
    {
     "name": "stdout",
     "output_type": "stream",
     "text": [
      "I have a cat\n",
      "My cat name is snowbel\n"
     ]
    }
   ],
   "source": [
    "describe_pet('cat','snowbel')"
   ]
  },
  {
   "cell_type": "code",
   "execution_count": 29,
   "id": "fd4b7f9f",
   "metadata": {},
   "outputs": [
    {
     "name": "stdout",
     "output_type": "stream",
     "text": [
      "I have a horse\n",
      "My horse name is badal\n"
     ]
    }
   ],
   "source": [
    "describe_pet('horse','badal')"
   ]
  },
  {
   "cell_type": "code",
   "execution_count": 30,
   "id": "7ec94362",
   "metadata": {},
   "outputs": [
    {
     "name": "stdout",
     "output_type": "stream",
     "text": [
      "I have a parrot\n",
      "My parrot name is mithu\n"
     ]
    }
   ],
   "source": [
    "describe_pet('parrot','mithu')"
   ]
  },
  {
   "cell_type": "code",
   "execution_count": null,
   "id": "5ea12153",
   "metadata": {},
   "outputs": [],
   "source": [
    "Keyword Args"
   ]
  },
  {
   "cell_type": "code",
   "execution_count": 31,
   "id": "b7abb27f",
   "metadata": {},
   "outputs": [
    {
     "name": "stdout",
     "output_type": "stream",
     "text": [
      "I have a dog\n",
      "My dog name is scooby\n"
     ]
    }
   ],
   "source": [
    "describe_pet(animal_type ='dog',pet_name ='scooby')"
   ]
  },
  {
   "cell_type": "code",
   "execution_count": 32,
   "id": "39b0fc36",
   "metadata": {},
   "outputs": [
    {
     "name": "stdout",
     "output_type": "stream",
     "text": [
      "I have a cat\n",
      "My cat name is pussycat\n"
     ]
    }
   ],
   "source": [
    "describe_pet(animal_type = 'cat', pet_name ='pussycat')"
   ]
  },
  {
   "cell_type": "code",
   "execution_count": null,
   "id": "eb8b0219",
   "metadata": {},
   "outputs": [],
   "source": [
    "Default Args"
   ]
  },
  {
   "cell_type": "code",
   "execution_count": 33,
   "id": "1799da1f",
   "metadata": {},
   "outputs": [
    {
     "ename": "TypeError",
     "evalue": "describe_pet() missing 1 required positional argument: 'pet_name'",
     "output_type": "error",
     "traceback": [
      "\u001b[1;31m---------------------------------------------------------------------------\u001b[0m",
      "\u001b[1;31mTypeError\u001b[0m                                 Traceback (most recent call last)",
      "\u001b[1;32m<ipython-input-33-fce21b101470>\u001b[0m in \u001b[0;36m<module>\u001b[1;34m\u001b[0m\n\u001b[1;32m----> 1\u001b[1;33m \u001b[0mdescribe_pet\u001b[0m\u001b[1;33m(\u001b[0m\u001b[1;34m'barfi'\u001b[0m\u001b[1;33m)\u001b[0m\u001b[1;33m\u001b[0m\u001b[1;33m\u001b[0m\u001b[0m\n\u001b[0m",
      "\u001b[1;31mTypeError\u001b[0m: describe_pet() missing 1 required positional argument: 'pet_name'"
     ]
    }
   ],
   "source": [
    "describe_pet('barfi')"
   ]
  },
  {
   "cell_type": "code",
   "execution_count": 37,
   "id": "49f19690",
   "metadata": {},
   "outputs": [],
   "source": [
    "def describe_pet(pet_name,animal_type = 'dog'):\n",
    "    \"\"\"Creating the pet details function\"\"\"\n",
    "    print(f\"I have a {animal_type}\")\n",
    "    print(f\"My {animal_type} name is {pet_name}\")"
   ]
  },
  {
   "cell_type": "code",
   "execution_count": 38,
   "id": "0f006f9e",
   "metadata": {},
   "outputs": [
    {
     "name": "stdout",
     "output_type": "stream",
     "text": [
      "I have a dog\n",
      "My dog name is barfi\n"
     ]
    }
   ],
   "source": [
    "describe_pet('barfi')"
   ]
  },
  {
   "cell_type": "code",
   "execution_count": 39,
   "id": "177576fe",
   "metadata": {},
   "outputs": [
    {
     "ename": "SyntaxError",
     "evalue": "non-default argument follows default argument (<ipython-input-39-8272edcadc4c>, line 1)",
     "output_type": "error",
     "traceback": [
      "\u001b[1;36m  File \u001b[1;32m\"<ipython-input-39-8272edcadc4c>\"\u001b[1;36m, line \u001b[1;32m1\u001b[0m\n\u001b[1;33m    def describe_pet(animal_type = 'dog',pet_name):\u001b[0m\n\u001b[1;37m                     ^\u001b[0m\n\u001b[1;31mSyntaxError\u001b[0m\u001b[1;31m:\u001b[0m non-default argument follows default argument\n"
     ]
    }
   ],
   "source": [
    "def describe_pet(animal_type = 'dog',pet_name):\n",
    "    \"\"\"Creating the pet details function\"\"\"\n",
    "    print(f\"I have a {animal_type}\")\n",
    "    print(f\"My {animal_type} name is {pet_name}\")"
   ]
  },
  {
   "cell_type": "code",
   "execution_count": 40,
   "id": "989a5191",
   "metadata": {},
   "outputs": [],
   "source": [
    "def describe_pet(pet_name,animal_type = 'dog'):\n",
    "    \"\"\"Creating the pet details function\"\"\"\n",
    "    print(f\"I have a {animal_type}\")\n",
    "    print(f\"My {animal_type} name is {pet_name}\")"
   ]
  },
  {
   "cell_type": "code",
   "execution_count": 41,
   "id": "adda85cf",
   "metadata": {},
   "outputs": [
    {
     "name": "stdout",
     "output_type": "stream",
     "text": [
      "I have a dog\n",
      "My dog name is timon\n"
     ]
    }
   ],
   "source": [
    "describe_pet('timon')"
   ]
  },
  {
   "cell_type": "code",
   "execution_count": 42,
   "id": "e5afc277",
   "metadata": {},
   "outputs": [
    {
     "name": "stdout",
     "output_type": "stream",
     "text": [
      "I have a cat\n",
      "My cat name is timon\n"
     ]
    }
   ],
   "source": [
    "describe_pet('timon','cat')"
   ]
  },
  {
   "cell_type": "code",
   "execution_count": null,
   "id": "b7e4cae6",
   "metadata": {},
   "outputs": [],
   "source": []
  }
 ],
 "metadata": {
  "kernelspec": {
   "display_name": "Python 3",
   "language": "python",
   "name": "python3"
  },
  "language_info": {
   "codemirror_mode": {
    "name": "ipython",
    "version": 3
   },
   "file_extension": ".py",
   "mimetype": "text/x-python",
   "name": "python",
   "nbconvert_exporter": "python",
   "pygments_lexer": "ipython3",
   "version": "3.8.8"
  }
 },
 "nbformat": 4,
 "nbformat_minor": 5
}
